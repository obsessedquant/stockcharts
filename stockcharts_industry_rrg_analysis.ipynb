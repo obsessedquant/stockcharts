{
 "cells": [
  {
   "cell_type": "markdown",
   "id": "aba3563b",
   "metadata": {},
   "source": [
    "# StockCharts\n",
    "\n",
    "This notebook is meant to collect data from stockcharts.com from Industry and Sector performances.  \n",
    "\n",
    "To Do:  \n",
    "* Build Sector and Industry Dictionaries  \n",
    "* Build Beautiful Soup data pull  \n",
    "* Build dataframe  \n",
    "* Load to PostgreSQL using SQLAlchemy  \n",
    "* Calculate dollar volumes by cross-referencing Finviz or yfinance Shares Oustanding data"
   ]
  },
  {
   "cell_type": "code",
   "execution_count": 38,
   "id": "5430805d",
   "metadata": {},
   "outputs": [],
   "source": [
    "import random\n",
    "import time\n",
    "\n",
    "def half_time():\n",
    "    quick_time = 0.5 + random.randint(0,9)*10**(-1) + random.randint(0,9)*10**(-2) + random.randint(0,9)*10**(-3) + random.randint(0,9)*10**(-4) + random.randint(0,9)*10**(-5) + random.randint(0,9)*10**(-6)\n",
    "    print(f'Half sleep time: {quick_time} seconds')\n",
    "    time.sleep(quick_time)\n",
    "\n",
    "def one_to_three_time():\n",
    "    quick_time = random.randint(0,3) + random.randint(0,9)*10**(-1) + random.randint(0,9)*10**(-2) + random.randint(0,9)*10**(-3) + random.randint(0,9)*10**(-4) + random.randint(0,9)*10**(-5) + random.randint(0,9)*10**(-6)\n",
    "    print(f'1-3 sleep time: {quick_time} seconds')\n",
    "    time.sleep(quick_time)\n",
    "    \n",
    "def three_to_five_time():\n",
    "    quick_time = random.randint(3,5) + random.randint(0,9)*10**(-1) + random.randint(0,9)*10**(-2) + random.randint(0,9)*10**(-3) + random.randint(0,9)*10**(-4) + random.randint(0,9)*10**(-5) + random.randint(0,9)*10**(-6)\n",
    "    print(f'3-5 sleep time: {quick_time} seconds')\n",
    "    time.sleep(quick_time)\n",
    "\n",
    "def one_to_ten_time():\n",
    "    quick_time = random.randint(0,9) + random.randint(0,9)*10**(-1) + random.randint(0,9)*10**(-2) + random.randint(0,9)*10**(-3) + random.randint(0,9)*10**(-4) + random.randint(0,9)*10**(-5) + random.randint(0,9)*10**(-6)\n",
    "    print(f'1-10 sleep time: {quick_time} seconds')\n",
    "    time.sleep(quick_time)\n",
    "\n",
    "def five_to_fifteen_time():\n",
    "    quick_time = 5 + random.randint(0,9) + random.randint(0,9)*10**(-1) + random.randint(0,9)*10**(-2) + random.randint(0,9)*10**(-3) + random.randint(0,9)*10**(-4) + random.randint(0,9)*10**(-5) + random.randint(0,9)*10**(-6)\n",
    "    print(f'5-15 sleep time: {quick_time} seconds')\n",
    "    time.sleep(quick_time)"
   ]
  },
  {
   "cell_type": "code",
   "execution_count": 2,
   "id": "326a8fff",
   "metadata": {},
   "outputs": [],
   "source": [
    "from dotenv import load_dotenv\n",
    "import os\n",
    "from splinter import Browser\n",
    "from selenium.webdriver.chrome.options import Options\n",
    "from selenium import webdriver\n",
    "from bs4 import BeautifulSoup as soup"
   ]
  },
  {
   "cell_type": "code",
   "execution_count": 39,
   "id": "49de581e",
   "metadata": {},
   "outputs": [
    {
     "name": "stdout",
     "output_type": "stream",
     "text": [
      "5-15 sleep time: 13.662207 seconds\n",
      "1-3 sleep time: 0.268671 seconds\n",
      "1-3 sleep time: 0.6196480000000002 seconds\n",
      "Half sleep time: 1.120079 seconds\n",
      "5-15 sleep time: 13.805681000000002 seconds\n"
     ]
    }
   ],
   "source": [
    "# This section is for if log-in is needed\n",
    "\n",
    "# Download data from Finviz\n",
    "# Load .env enviroment variables into the notebook\n",
    "load_dotenv()\n",
    "\n",
    "# Get the API key from the environment variable and store as Python variable\n",
    "stockcharts_name = os.getenv(\"stockcharts_user\")\n",
    "stockcharts_pass = os.getenv(\"stockcharts_pass\")\n",
    "\n",
    "# Instantiate an Options object and add the --headless argument\n",
    "# This runs the browser in the background\n",
    "# opts = Options()\n",
    "# opts.add_argument(\" --headless\")\n",
    "\n",
    "# This runs the browser where you can see it\n",
    "opts = webdriver.ChromeOptions()\n",
    "prefs = {\"download.default_directory\" : \"C:\\\\Users\\\\srobi\\\\GitHubRepos\\\\Asset-Screeners\\\\Inputs\\\\Finviz_Data\"}\n",
    "opts.add_experimental_option(\"prefs\",prefs)\n",
    "opts.add_argument(\"--start-maximized\") # start with window maximized\n",
    "opts.add_argument(\"--disable-notifications\") # notifications turned off\n",
    "\n",
    "# Set the location of the webdriver\n",
    "# chrome_driver='C:\\\\Users\\\\srobi\\\\Projects\\\\chromedriver.exe'\n",
    "# chrome_driver='C:\\\\Users\\\\srobi\\\\GitHubRepos\\\\chromedriver.exe'\n",
    "executable_path = {'executable_path':'../chromedriver'}\n",
    "\n",
    "browser = Browser('chrome', **executable_path, headless=False, options = opts)\n",
    "# create a new browser object, by default it's FireFox\n",
    "# headless = True will run the browser in the background, you won't see it on the screen\n",
    "\n",
    "browser.visit(\"https://stockcharts.com/login/index.php\")\n",
    "five_to_fifteen_time()\n",
    "\n",
    "# find my email element\n",
    "username_box = browser.find_by_name(\"form_UserID\") # https://splinter.readthedocs.io/en/latest/finding.html\n",
    "one_to_three_time()\n",
    "\n",
    "# fill out the element\n",
    "username_box.fill(stockcharts_name)\n",
    "one_to_three_time()\n",
    "\n",
    "# fill in the password box\n",
    "password = browser.find_by_name(\"form_UserPassword\").fill(stockcharts_pass)\n",
    "half_time()\n",
    "\n",
    "# click the log in button\n",
    "submit = browser.find_by_value(\"Log In\").first.click()\n",
    "five_to_fifteen_time()\n",
    "\n",
    "# Go to the screener page\n",
    "# browser.visit('https://stockcharts.com/freecharts/rrg/?s=$DJUSAV,$DJUSBC,$DJUSFC,$DJUSNS,$DJUSPB,$DJUSWC&b=$USD&p=w&y=1&t=5&f=tail,d')"
   ]
  },
  {
   "cell_type": "code",
   "execution_count": 40,
   "id": "f8701824",
   "metadata": {
    "scrolled": true
   },
   "outputs": [
    {
     "name": "stdout",
     "output_type": "stream",
     "text": [
      "3-5 sleep time: 3.5433320000000004 seconds\n",
      "3-5 sleep time: 5.760604 seconds\n",
      "3-5 sleep time: 4.415903999999999 seconds\n"
     ]
    }
   ],
   "source": [
    "sector_list1 = \"$DJUSAV,$DJUSBC,$DJUSFC,$DJUSNS,$DJUSPB,$DJUSWC,$DJUSAT,$DJUSAU,$DJUSBE,$DJUSCA,$DJUSCF,$DJUSCS,$DJUSFH,$DJUSFT,$DJUSHB,$DJUSHD,$DJUSHI,$DJUSLG,$DJUSRA,$DJUSRB,$DJUSRP,$DJUSRQ,$DJUSRS,$DJUSRU,$DJUSTT,$DJUSTY,$DWCTIR,$DJUSCM,$DJUSDB,$DJUSFD,$DJUSFP,$DJUSHN,$DJUSRD,$DJUSSD,$DJUSTB,$DJUSVN\"\n",
    "sector_list2 = '$DJUSOI,$DJUSOL,$DJUSOS,$DJUSPL,$DWCCOA,$DJUSAG,$DJUSBK,$DJUSFA,$DJUSIB,$DJUSIF,$DJUSIL,$DJUSIP,$DJUSIU,$DJUSMF,$DJUSSB,$DJUSSF,$DJUSSP,$DJUSAM,$DJUSBT,$DJUSHP,$DJUSMS,$DJUSPR,$DJUSAF,$DJUSAR,$DJUSAS,$DJUSBD,$DJUSDN,$DJUSDS,$DJUSFE,$DJUSHR,$DJUSHV,$DJUSID,$DJUSIV,$DJUSMT,$DJUSPC,$DJUSRR,$DJUSTK,$DJUSTS'\n",
    "sector_list3 = '$DJUSAL,$DJUSCC,$DJUSCP,$DJUSCX,$DJUSMG,$DJUSNF,$DJUSPM,$DJUSST,$DWCPAP,$DJUSDT,$DJUSHE,$DJUSES,$DJUSHL,$DJUSIO,$DJUSMR,$DJUSRL,$DJUSRN,$DJUSSR,$DJUSAI,$DJUSCR,$DJUSCT,$DJUSDV,$DJUSEC,$DJUSSC,$DJUSSW,$DWCREE,$DJUSGU,$DJUSMU,$DJUSVE,$DJUSWU'\n",
    "sector_list = [sector_list1,sector_list2,sector_list3]\n",
    "counter = 1\n",
    "\n",
    "for sector in sector_list:\n",
    "    browser.visit(f'https://stockcharts.com/freecharts/rrg/?s={sector}&b=$USD&p=w&y=1&t=5&f=tail,d')\n",
    "    three_to_five_time()\n",
    "    \n",
    "    # Take screenshot of html, Beautiful Soup will access this from my local drive for analysis\n",
    "    screenshot_path = browser.html_snapshot(f'C:\\\\Users\\\\srobi\\\\GitHubRepos\\\\stockcharts\\\\HTML_screenshots\\\\sector_list{counter}.html')\n",
    "    counter += 1"
   ]
  },
  {
   "cell_type": "code",
   "execution_count": 37,
   "id": "0db71bc0",
   "metadata": {},
   "outputs": [
    {
     "name": "stdout",
     "output_type": "stream",
     "text": [
      "https://stockcharts.com/freecharts/rrg/?s=$DJUSAV,$DJUSBC,$DJUSFC,$DJUSNS,$DJUSPB,$DJUSWC,$DJUSAT,$DJUSAU,$DJUSBE,$DJUSCA,$DJUSCF,$DJUSCS,$DJUSFH,$DJUSFT,$DJUSHB,$DJUSHD,$DJUSHI,$DJUSLG,$DJUSRA,$DJUSRB,$DJUSRP,$DJUSRQ,$DJUSRS,$DJUSRU,$DJUSTT,$DJUSTY,$DWCTIR,$DJUSCM,$DJUSDB,$DJUSFD,$DJUSFP,$DJUSHN,$DJUSRD,$DJUSSD,$DJUSTB,$DJUSVN&b=$USD&p=w&y=1&t=5&f=tail,d\n"
     ]
    }
   ],
   "source": [
    "rrg_url = f'https://stockcharts.com/freecharts/rrg/?s={sector_list1}&b=$USD&p=w&y=1&t=5&f=tail,d'\n",
    "print(rrg_url)"
   ]
  },
  {
   "cell_type": "code",
   "execution_count": 7,
   "id": "6b4888ca",
   "metadata": {},
   "outputs": [],
   "source": [
    "# Take screenshot of html, Beautiful Soup will access this from my local drive for analysis\n",
    "screenshot_path = browser.html_snapshot('C:\\\\Users\\\\srobi\\\\GitHubRepos\\\\stockcharts\\\\your_screenshot.html')"
   ]
  },
  {
   "cell_type": "code",
   "execution_count": 41,
   "id": "e79bd841",
   "metadata": {},
   "outputs": [],
   "source": [
    "# Close the browser\n",
    "browser.quit()"
   ]
  },
  {
   "cell_type": "code",
   "execution_count": 10,
   "id": "f218e65f",
   "metadata": {},
   "outputs": [
    {
     "name": "stdout",
     "output_type": "stream",
     "text": [
      "./HTML_screenshots\\your_screenshot.htmlsrakg8bc.html\n"
     ]
    }
   ],
   "source": [
    "import glob\n",
    "\n",
    "# Get the latest file and the second latest file from the directory\n",
    "list_of_files = glob.glob('./HTML_screenshots/*') # * means all if need specific format then *.csv\n",
    "latest_file = max(list_of_files, key=os.path.getctime)\n",
    "print(latest_file)"
   ]
  },
  {
   "cell_type": "code",
   "execution_count": 14,
   "id": "f6f8bdc4",
   "metadata": {},
   "outputs": [
    {
     "name": "stdout",
     "output_type": "stream",
     "text": [
      "C:\\Users\\srobi\\GitHubRepos\\stockcharts\\\n"
     ]
    }
   ],
   "source": [
    "url_base = 'C:\\\\Users\\\\srobi\\\\GitHubRepos\\\\stockcharts\\\\'\n",
    "print(url_base)"
   ]
  },
  {
   "cell_type": "code",
   "execution_count": 17,
   "id": "2c11cfd0",
   "metadata": {},
   "outputs": [
    {
     "name": "stdout",
     "output_type": "stream",
     "text": [
      "C:\\Users\\srobi\\GitHubRepos\\stockcharts\\HTML_screenshots\\your_screenshot.htmlsrakg8bc.html\n"
     ]
    }
   ],
   "source": [
    "complete_url = url_base + latest_file[2:]\n",
    "print(complete_url)"
   ]
  },
  {
   "cell_type": "code",
   "execution_count": 26,
   "id": "40e18a86",
   "metadata": {},
   "outputs": [
    {
     "name": "stdout",
     "output_type": "stream",
     "text": [
      "<tr class=\"row green\"><td align=\"center\" class=\"chart\"><a href=\"/h-sc/ui?s=$DJUSFC\"><img alt=\"Candlesticks Icon\" src=\"/freecharts/rrg/candle.gif\"/></a></td><td align=\"center\" class=\"visible\"><input aria-label=\"Deselect to remove symbol from chart\" checked=\"checked\" type=\"checkbox\"/></td><td align=\"left\" class=\"tail\"><img alt=\"bar icon\" height=\"10\" src=\"/freecharts/rrg/greenbar.png\" width=\"24\"/></td><td align=\"right\" class=\"symbol\">$DJUSFC</td><td align=\"right\" class=\"name\">Dow Jones US Fixed Line Telecommunications Index</td><td align=\"right\" class=\"sector\"></td><td align=\"right\" class=\"industry\"></td><td align=\"right\" class=\"price\">113.78</td><td align=\"left\" class=\"chg\"><img alt=\"bar icon\" height=\"10\" src=\"/freecharts/rrg/greenbar.png\" width=\"9\"/> 3.3</td></tr>\n"
     ]
    }
   ],
   "source": [
    "from bs4 import BeautifulSoup\n",
    "\n",
    "# file = open(filename, encoding=\"utf8\")\n",
    "\n",
    "# with open(\"C:\\\\example.html\") as fp:\n",
    "with open(complete_url, encoding=\"utf8\") as fp:\n",
    "    soup = BeautifulSoup(fp, 'html.parser')\n",
    "\n",
    "row_green = soup.findAll('tr',{\"class\":\"row green\"})\n",
    "\n",
    "for green in row_green:\n",
    "    print(green)"
   ]
  },
  {
   "cell_type": "code",
   "execution_count": 5,
   "id": "a5a42775",
   "metadata": {},
   "outputs": [],
   "source": [
    "# Close the browser\n",
    "driver.quit()\n",
    "\n",
    "# Close the browser\n",
    "browser.quit()"
   ]
  },
  {
   "cell_type": "code",
   "execution_count": 16,
   "id": "af55b124",
   "metadata": {},
   "outputs": [],
   "source": [
    "# browser.quit()"
   ]
  },
  {
   "cell_type": "code",
   "execution_count": 28,
   "id": "d1428154",
   "metadata": {},
   "outputs": [],
   "source": [
    "# Tests to see if html has been parsed properly\n",
    "# print('\\nTesting html parsing...')\n",
    "# print(page_soup.title.get_text())\n",
    "# print(page_soup.h1.text) # shows header information\n",
    "# print(page_soup.p.text) # shows paragraph information\n",
    "# print(page_soup.body.span.text)\n",
    "# print('Testing completed.\\n')"
   ]
  },
  {
   "cell_type": "code",
   "execution_count": 63,
   "id": "ca97d9f1",
   "metadata": {},
   "outputs": [],
   "source": [
    "# Find all of the different color rows\n",
    "row_green = page_soup.findAll('tr',{\"class\":\"row green\"})\n",
    "row_blue = page_soup.findAll('tr',{\"class\":\"row blue\"})\n",
    "row_yellow = page_soup.findAll('tr',{\"class\":\"row yellow\"})\n",
    "row_red = page_soup.findAll('tr',{\"class\":\"row red\"})"
   ]
  },
  {
   "cell_type": "code",
   "execution_count": 64,
   "id": "610a53e1",
   "metadata": {},
   "outputs": [
    {
     "data": {
      "text/html": [
       "<div>\n",
       "<style scoped>\n",
       "    .dataframe tbody tr th:only-of-type {\n",
       "        vertical-align: middle;\n",
       "    }\n",
       "\n",
       "    .dataframe tbody tr th {\n",
       "        vertical-align: top;\n",
       "    }\n",
       "\n",
       "    .dataframe thead th {\n",
       "        text-align: right;\n",
       "    }\n",
       "</style>\n",
       "<table border=\"1\" class=\"dataframe\">\n",
       "  <thead>\n",
       "    <tr style=\"text-align: right;\">\n",
       "      <th></th>\n",
       "      <th>symbol</th>\n",
       "      <th>name</th>\n",
       "      <th>color</th>\n",
       "    </tr>\n",
       "  </thead>\n",
       "  <tbody>\n",
       "    <tr>\n",
       "      <th>0</th>\n",
       "      <td>$XAX</td>\n",
       "      <td>AMEX Composite</td>\n",
       "      <td>green</td>\n",
       "    </tr>\n",
       "    <tr>\n",
       "      <th>1</th>\n",
       "      <td>$TSX</td>\n",
       "      <td>TSX Composite Index</td>\n",
       "      <td>green</td>\n",
       "    </tr>\n",
       "    <tr>\n",
       "      <th>2</th>\n",
       "      <td>$INDU</td>\n",
       "      <td>Dow Jones Industrial Average</td>\n",
       "      <td>green</td>\n",
       "    </tr>\n",
       "    <tr>\n",
       "      <th>3</th>\n",
       "      <td>$NYA</td>\n",
       "      <td>NYSE Composite Index</td>\n",
       "      <td>green</td>\n",
       "    </tr>\n",
       "  </tbody>\n",
       "</table>\n",
       "</div>"
      ],
      "text/plain": [
       "  symbol                          name  color\n",
       "0   $XAX                AMEX Composite  green\n",
       "1   $TSX           TSX Composite Index  green\n",
       "2  $INDU  Dow Jones Industrial Average  green\n",
       "3   $NYA          NYSE Composite Index  green"
      ]
     },
     "execution_count": 64,
     "metadata": {},
     "output_type": "execute_result"
    }
   ],
   "source": [
    "green_symbols = []\n",
    "green_names = []\n",
    "green_string = ''\n",
    "\n",
    "for x in row_green:\n",
    "    symbolz = x.find('td',{\"class\":\"symbol\"})\n",
    "    namez = x.find('td',{\"class\":\"name\"})\n",
    "    green_symbols.append(symbolz.text)\n",
    "    green_names.append(namez.text)\n",
    "    green_string = green_string + symbolz.text + ','\n",
    "\n",
    "green_dict = {'symbol':green_symbols,'name':green_names}\n",
    "\n",
    "import pandas as pd\n",
    "green_df = pd.DataFrame(green_dict)\n",
    "green_df['color'] = 'green'\n",
    "green_df"
   ]
  },
  {
   "cell_type": "code",
   "execution_count": 65,
   "id": "cd856203",
   "metadata": {},
   "outputs": [
    {
     "data": {
      "text/html": [
       "<div>\n",
       "<style scoped>\n",
       "    .dataframe tbody tr th:only-of-type {\n",
       "        vertical-align: middle;\n",
       "    }\n",
       "\n",
       "    .dataframe tbody tr th {\n",
       "        vertical-align: top;\n",
       "    }\n",
       "\n",
       "    .dataframe thead th {\n",
       "        text-align: right;\n",
       "    }\n",
       "</style>\n",
       "<table border=\"1\" class=\"dataframe\">\n",
       "  <thead>\n",
       "    <tr style=\"text-align: right;\">\n",
       "      <th></th>\n",
       "      <th>symbol</th>\n",
       "      <th>name</th>\n",
       "      <th>color</th>\n",
       "    </tr>\n",
       "  </thead>\n",
       "  <tbody>\n",
       "  </tbody>\n",
       "</table>\n",
       "</div>"
      ],
      "text/plain": [
       "Empty DataFrame\n",
       "Columns: [symbol, name, color]\n",
       "Index: []"
      ]
     },
     "execution_count": 65,
     "metadata": {},
     "output_type": "execute_result"
    }
   ],
   "source": [
    "blue_symbols = []\n",
    "blue_names = []\n",
    "blue_string = ''\n",
    "\n",
    "for x in row_blue:\n",
    "    symbolz = x.find('td',{\"class\":\"symbol\"})\n",
    "    namez = x.find('td',{\"class\":\"name\"})\n",
    "    blue_symbols.append(symbolz.text)\n",
    "    blue_names.append(namez.text)\n",
    "    blue_string = blue_string + symbolz.text + ','\n",
    "\n",
    "blue_dict = {'symbol':blue_symbols,'name':blue_names}\n",
    "blue_df = pd.DataFrame(blue_dict)\n",
    "blue_df['color'] = 'blue'\n",
    "blue_df"
   ]
  },
  {
   "cell_type": "code",
   "execution_count": 66,
   "id": "1867d865",
   "metadata": {},
   "outputs": [
    {
     "name": "stdout",
     "output_type": "stream",
     "text": [
      "$XAX,$TSX,$INDU,$NYA,\n"
     ]
    }
   ],
   "source": [
    "green_n_blue = green_string + blue_string\n",
    "print(green_n_blue)"
   ]
  },
  {
   "cell_type": "code",
   "execution_count": 67,
   "id": "750fbfa6",
   "metadata": {},
   "outputs": [
    {
     "data": {
      "text/html": [
       "<div>\n",
       "<style scoped>\n",
       "    .dataframe tbody tr th:only-of-type {\n",
       "        vertical-align: middle;\n",
       "    }\n",
       "\n",
       "    .dataframe tbody tr th {\n",
       "        vertical-align: top;\n",
       "    }\n",
       "\n",
       "    .dataframe thead th {\n",
       "        text-align: right;\n",
       "    }\n",
       "</style>\n",
       "<table border=\"1\" class=\"dataframe\">\n",
       "  <thead>\n",
       "    <tr style=\"text-align: right;\">\n",
       "      <th></th>\n",
       "      <th>symbol</th>\n",
       "      <th>name</th>\n",
       "      <th>color</th>\n",
       "    </tr>\n",
       "  </thead>\n",
       "  <tbody>\n",
       "  </tbody>\n",
       "</table>\n",
       "</div>"
      ],
      "text/plain": [
       "Empty DataFrame\n",
       "Columns: [symbol, name, color]\n",
       "Index: []"
      ]
     },
     "execution_count": 67,
     "metadata": {},
     "output_type": "execute_result"
    }
   ],
   "source": [
    "yellow_symbols = []\n",
    "yellow_names = []\n",
    "yellow_string = ''\n",
    "\n",
    "for x in row_yellow:\n",
    "    symbolz = x.find('td',{\"class\":\"symbol\"})\n",
    "    namez = x.find('td',{\"class\":\"name\"})\n",
    "    yellow_symbols.append(symbolz.text)\n",
    "    yellow_names.append(namez.text)\n",
    "    yellow_string = yellow_string + symbolz.text + ','\n",
    "\n",
    "yellow_dict = {'symbol':yellow_symbols,'name':yellow_names}\n",
    "yellow_df = pd.DataFrame(yellow_dict)\n",
    "yellow_df['color'] = 'yellow'\n",
    "yellow_df"
   ]
  },
  {
   "cell_type": "code",
   "execution_count": 68,
   "id": "0bf79664",
   "metadata": {},
   "outputs": [
    {
     "data": {
      "text/html": [
       "<div>\n",
       "<style scoped>\n",
       "    .dataframe tbody tr th:only-of-type {\n",
       "        vertical-align: middle;\n",
       "    }\n",
       "\n",
       "    .dataframe tbody tr th {\n",
       "        vertical-align: top;\n",
       "    }\n",
       "\n",
       "    .dataframe thead th {\n",
       "        text-align: right;\n",
       "    }\n",
       "</style>\n",
       "<table border=\"1\" class=\"dataframe\">\n",
       "  <thead>\n",
       "    <tr style=\"text-align: right;\">\n",
       "      <th></th>\n",
       "      <th>symbol</th>\n",
       "      <th>name</th>\n",
       "      <th>color</th>\n",
       "    </tr>\n",
       "  </thead>\n",
       "  <tbody>\n",
       "    <tr>\n",
       "      <th>0</th>\n",
       "      <td>$COMPQ</td>\n",
       "      <td>Nasdaq Composite</td>\n",
       "      <td>red</td>\n",
       "    </tr>\n",
       "    <tr>\n",
       "      <th>1</th>\n",
       "      <td>$CDNX</td>\n",
       "      <td>S&amp;P/TSX Venture (CDNX) Composite Index</td>\n",
       "      <td>red</td>\n",
       "    </tr>\n",
       "  </tbody>\n",
       "</table>\n",
       "</div>"
      ],
      "text/plain": [
       "   symbol                                    name color\n",
       "0  $COMPQ                        Nasdaq Composite   red\n",
       "1   $CDNX  S&P/TSX Venture (CDNX) Composite Index   red"
      ]
     },
     "execution_count": 68,
     "metadata": {},
     "output_type": "execute_result"
    }
   ],
   "source": [
    "red_symbols = []\n",
    "red_names = []\n",
    "red_string = ''\n",
    "\n",
    "for x in row_red:\n",
    "    symbolz = x.find('td',{\"class\":\"symbol\"})\n",
    "    namez = x.find('td',{\"class\":\"name\"})\n",
    "    red_symbols.append(symbolz.text)\n",
    "    red_names.append(namez.text)\n",
    "    red_string = red_string + symbolz.text + ','\n",
    "\n",
    "red_dict = {'symbol':red_symbols,'name':red_names}\n",
    "red_df = pd.DataFrame(red_dict)\n",
    "red_df['color'] = 'red'\n",
    "red_df"
   ]
  },
  {
   "cell_type": "code",
   "execution_count": 69,
   "id": "22729917",
   "metadata": {},
   "outputs": [
    {
     "name": "stdout",
     "output_type": "stream",
     "text": [
      "$COMPQ,$CDNX,\n"
     ]
    }
   ],
   "source": [
    "red_n_yellow = red_string + yellow_string\n",
    "print(red_n_yellow)"
   ]
  },
  {
   "cell_type": "code",
   "execution_count": null,
   "id": "02d4c99a",
   "metadata": {},
   "outputs": [],
   "source": []
  },
  {
   "cell_type": "code",
   "execution_count": null,
   "id": "b95094d3",
   "metadata": {},
   "outputs": [],
   "source": []
  },
  {
   "cell_type": "code",
   "execution_count": null,
   "id": "1750c136",
   "metadata": {},
   "outputs": [],
   "source": []
  },
  {
   "cell_type": "code",
   "execution_count": null,
   "id": "d208d4c7",
   "metadata": {},
   "outputs": [],
   "source": []
  },
  {
   "cell_type": "code",
   "execution_count": null,
   "id": "8dc227c8",
   "metadata": {},
   "outputs": [],
   "source": []
  },
  {
   "cell_type": "code",
   "execution_count": 59,
   "id": "b1d69177",
   "metadata": {},
   "outputs": [],
   "source": [
    "# industry_list = []\n",
    "\n",
    "# for sector in sectors:\n",
    "# #     print(\"\\n\")\n",
    "# #     print(sector.div.span.text)\n",
    "#     sector0 = sector.div.span.text\n",
    "#     industry_indices = sector.findAll('span',{\"class\":\"index-symbol\"})\n",
    "#     industry_names = sector.findAll('span',{\"class\":\"index-name\"})\n",
    "#     for x in range(len(industry_indices)):\n",
    "# #         print(f\"{industry_indices[x].text} - {industry_names[x].text}\")\n",
    "#         industry_list.append({\"sector\":sector0,\"index\":industry_indices[x].text,\"industry_name\":industry_names[x].text})"
   ]
  },
  {
   "cell_type": "code",
   "execution_count": 60,
   "id": "215c7576",
   "metadata": {},
   "outputs": [],
   "source": [
    "# df2 = pd.DataFrame(industry_list)\n",
    "# df2"
   ]
  },
  {
   "cell_type": "code",
   "execution_count": 53,
   "id": "90bfd030",
   "metadata": {},
   "outputs": [],
   "source": [
    "# print(page_soup.find('div',{\"id\":\"majorMarkets-panel\"}).prettify())"
   ]
  }
 ],
 "metadata": {
  "kernelspec": {
   "display_name": "Python [conda env:pyvizenv]",
   "language": "python",
   "name": "conda-env-pyvizenv-py"
  },
  "language_info": {
   "codemirror_mode": {
    "name": "ipython",
    "version": 3
   },
   "file_extension": ".py",
   "mimetype": "text/x-python",
   "name": "python",
   "nbconvert_exporter": "python",
   "pygments_lexer": "ipython3",
   "version": "3.7.11"
  }
 },
 "nbformat": 4,
 "nbformat_minor": 5
}
